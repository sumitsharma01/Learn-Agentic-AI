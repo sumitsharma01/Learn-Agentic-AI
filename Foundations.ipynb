{
 "cells": [
  {
   "cell_type": "code",
   "execution_count": null,
   "id": "26f22254",
   "metadata": {
    "vscode": {
     "languageId": "markdown"
    }
   },
   "outputs": [],
   "source": [
    "## 📍 Day 1: Understanding the Building Blocks – From Biological Neurons to Artificial Neurons\n",
    "\n",
    "### 🔹 What is AI at its core?\n",
    "Artificial Intelligence (AI) aims to enable machines to mimic human intelligence — learning from data, making decisions, recognizing patterns, and solving problems. But how do we replicate \"intelligence\" in a machine?\n",
    "\n",
    "At the heart of many AI systems, especially Deep Learning, lies the neural network, inspired by how our brain works.\n"
   ]
  }
 ],
 "metadata": {
  "language_info": {
   "name": "python"
  }
 },
 "nbformat": 4,
 "nbformat_minor": 5
}
