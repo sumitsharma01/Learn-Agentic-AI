{
 "cells": [
  {
   "cell_type": "code",
   "execution_count": null,
   "id": "26f22254",
   "metadata": {
    "vscode": {
     "languageId": "markdown"
    }
   },
   "outputs": [],
   "source": [
    "## 📍 Day 1: Understanding the Building Blocks – From Biological Neurons to Artificial Neurons\n",
    "\n",
    "### 🔹 What is AI at its core?\n",
    "Artificial Intelligence (AI) aims to enable machines to mimic human intelligence — learning from data, making decisions, recognizing patterns, and solving problems. But how do we replicate \"intelligence\" in a machine?\n",
    "\n",
    "At the heart of many AI systems, especially Deep Learning, lies the neural network, inspired by how our brain works.\n",
    "\n",
    "### 🧠 Biological Neuron vs Artificial Neuron\n",
    "| **Biological Neuron** | **Artificial Neuron (Perceptron)** |\n",
    "|-----------------------|-----------------------------------|\n",
    "| Receives signals from other neurons | Takes multiple numerical inputs (features) |\n",
    "| Sums the incoming signals | Applies weighted sum of inputs |\n",
    "| Fires or not based on the signal strength | Passes through an activation function |\n",
    "| Sends signal to other neurons | Produces an output (prediction/classification) |\n",
    "\n",
    "#### **Biological Neuron**:\n",
    "- **Dendrites** receive signals\n",
    "- **Cell body** processes them\n",
    "- **Axon** sends the output signal\n",
    "- **Synapse** controls signal strength\n",
    "\n",
    "#### **Artificial Neuron**:\n",
    "- **Inputs** are features (like pixels in an image)\n",
    "- Each input is multiplied by a **weight**\n",
    "- A **bias** is added\n",
    "- **Output** is calculated using an activation function\n"
   ]
  }
 ],
 "metadata": {
  "language_info": {
   "name": "python"
  }
 },
 "nbformat": 4,
 "nbformat_minor": 5
}
